{
 "cells": [
  {
   "cell_type": "markdown",
   "metadata": {},
   "source": [
    "# San Francisco Crime Data Analysis\n",
    "\n",
    "In this notebook, the SF crime data is analyzed and the results are stored in the Bluemix Object Data Store.\n",
    "\n",
    "##Overall, these are the steps involved in analyzing the data.\n",
    "\n",
    "    1.Download the data from the SF open data website and upload the files to the Object Data Store. \n",
    "    2.Analyze the data using Apache Spark.\n",
    "    3.Store the analyzed results to Object Data store.\n",
    "    "
   ]
  },
  {
   "cell_type": "markdown",
   "metadata": {},
   "source": [
    "##Data Set\n",
    "\n",
    "[SF Open Data Website](https://data.sfgov.org/data?category=Public%20Safety)\n",
    "\n",
    "[SF Open Data Website, Page 2](https://data.sfgov.org/data?category=Public%20Safety)\n",
    "\n",
    "######Two data sets are used in this notebook. \n",
    "    1.SF Crime Data since January 1st, 2003.\n",
    "    2.SF Police Districts geo co-ordinates data.\n"
   ]
  },
  {
   "cell_type": "markdown",
   "metadata": {},
   "source": [
    "##Configuration to Access Object Storage\n",
    "\n",
    "Below cell defines the function that can be used to set the configuration to access Object Storage"
   ]
  },
  {
   "cell_type": "code",
   "execution_count": null,
   "metadata": {
    "collapsed": true
   },
   "outputs": [],
   "source": [
    "def set_hadoop_config(credentials):\n",
    "    prefix = \"fs.swift.service.\" + credentials['name'] \n",
    "    hconf = sc._jsc.hadoopConfiguration()\n",
    "    hconf.set(prefix + \".auth.url\", credentials['auth_url']+'/v3/auth/tokens')\n",
    "    hconf.set(prefix + \".auth.endpoint.prefix\", \"endpoints\")\n",
    "    hconf.set(prefix + \".tenant\", credentials['project_id'])\n",
    "    hconf.set(prefix + \".username\", credentials['user_id'])\n",
    "    hconf.set(prefix + \".password\", credentials['password'])\n",
    "    hconf.setInt(prefix + \".http.port\", 8080)\n",
    "    hconf.set(prefix + \".region\", credentials['region'])\n",
    "    hconf.setBoolean(prefix + \".public\", True)"
   ]
  },
  {
   "cell_type": "markdown",
   "metadata": {
    "collapsed": true
   },
   "source": [
    "##Adding files to the Object Storage\n",
    "Add the downloaded files to Object Storage by clicking on **Data Sources** on the right hand side of the page. Then place the cursor in a empty cell and click on the **Insert to code** to get the credentials to access the SF crime data file into the notebook."
   ]
  },
  {
   "cell_type": "code",
   "execution_count": null,
   "metadata": {
    "collapsed": false
   },
   "outputs": [],
   "source": []
  },
  {
   "cell_type": "markdown",
   "metadata": {},
   "source": [
    "Do the same thing for the SF police District geo coordinates data file."
   ]
  },
  {
   "cell_type": "code",
   "execution_count": null,
   "metadata": {
    "collapsed": false
   },
   "outputs": [],
   "source": []
  },
  {
   "cell_type": "markdown",
   "metadata": {},
   "source": [
    "Insert the appropriate data into the dictionaries. Two dictionaries, one for each file. Not sure, if the **filename** key can have multiple filenames. If it supports multiple filenames, then we can have just one credentials dictionary. "
   ]
  },
  {
   "cell_type": "code",
   "execution_count": null,
   "metadata": {
    "collapsed": true
   },
   "outputs": [],
   "source": [
    "credentials = {\n",
    "    'auth_url': '',\n",
    "    'project_id': '',\n",
    "    'region': '',\n",
    "    'user_id': '',\n",
    "    'username': '',\n",
    "    'password': '',\n",
    "    'filename': '',\n",
    "    'container': ''\n",
    "}\n",
    "\n",
    "credentials_2 = {\n",
    "    'auth_url': '',\n",
    "    'project_id': '',\n",
    "    'region': '',\n",
    "    'user_id': '',\n",
    "    'username': '',\n",
    "    'password': '',\n",
    "    'filename': '',\n",
    "    'container': ''\n",
    "}"
   ]
  },
  {
   "cell_type": "markdown",
   "metadata": {},
   "source": [
    "Now, using the above credentials call the configuration function to set the configuration settings for Object Storage."
   ]
  },
  {
   "cell_type": "code",
   "execution_count": null,
   "metadata": {
    "collapsed": false
   },
   "outputs": [],
   "source": [
    "credentials['name'] = 'crimes'\n",
    "set_hadoop_config(credentials)\n",
    "\n",
    "credentials_2['name'] = 'districts'\n",
    "set_hadoop_config(credentials_2)"
   ]
  },
  {
   "cell_type": "markdown",
   "metadata": {},
   "source": [
    "The data files are csv files. So, to work with CSV files, the pyspark_csv module is added to the SparkContext. Similarly, the matplot library is added to draw plots."
   ]
  },
  {
   "cell_type": "code",
   "execution_count": null,
   "metadata": {
    "collapsed": false
   },
   "outputs": [],
   "source": [
    "from pyspark.sql import SQLContext\n",
    "sqlContext = SQLContext(sc)\n",
    "\n",
    "sc.addPyFile(\"https://raw.githubusercontent.com/seahboonsiew/pyspark-csv/master/pyspark_csv.py\")\n",
    "import pyspark_csv as pycsv\n",
    "\n",
    "\n",
    "%matplotlib inline\n",
    "\n",
    "import matplotlib.pyplot as plt\n",
    "# matplotlib.patches allows us create colored patches, we can use for legends in plots\n",
    "import matplotlib.patches as mpatches\n",
    "# seaborn also builds on matplotlib and adds graphical features and new plot types"
   ]
  },
  {
   "cell_type": "markdown",
   "metadata": {
    "collapsed": false
   },
   "source": [
    "Read the Files from Object Storage"
   ]
  },
  {
   "cell_type": "code",
   "execution_count": null,
   "metadata": {
    "collapsed": true
   },
   "outputs": [],
   "source": [
    "crimeData = sc.textFile(\"swift://notebooks.\" + credentials['name'] + \"/SFPD_Incidents_-_from_1_January_2003 (3).csv\")\n",
    "policeDeptDistrictData = sc.textFile(\"swift://notebooks.\" + credentials_2['name'] + \"/sfpd_districts (4).csv\")"
   ]
  },
  {
   "cell_type": "markdown",
   "metadata": {},
   "source": [
    "##Analysis\n",
    "\n",
    "The csv files are converted in Spark DataFrames using the pyspark_csv library."
   ]
  },
  {
   "cell_type": "code",
   "execution_count": null,
   "metadata": {
    "collapsed": false
   },
   "outputs": [],
   "source": [
    "crimeData_df = pycsv.csvToDataFrame(sqlContext, crimeData)"
   ]
  },
  {
   "cell_type": "code",
   "execution_count": null,
   "metadata": {
    "collapsed": false
   },
   "outputs": [],
   "source": [
    "policeDeptDistrictData_df = pycsv.csvToDataFrame(sqlContext,policeDeptDistrictData)"
   ]
  },
  {
   "cell_type": "markdown",
   "metadata": {},
   "source": [
    "Check the schema to confirm that the files are loaded properly"
   ]
  },
  {
   "cell_type": "code",
   "execution_count": null,
   "metadata": {
    "collapsed": false
   },
   "outputs": [],
   "source": [
    "crimeData_df.printSchema()"
   ]
  },
  {
   "cell_type": "code",
   "execution_count": null,
   "metadata": {
    "collapsed": false
   },
   "outputs": [],
   "source": [
    "policeDeptDistrictData_df.printSchema()"
   ]
  },
  {
   "cell_type": "markdown",
   "metadata": {},
   "source": [
    "Change the column names in SF police District data set to match SF Crime Data columns, as we have to join both the data sets."
   ]
  },
  {
   "cell_type": "code",
   "execution_count": null,
   "metadata": {
    "collapsed": false
   },
   "outputs": [],
   "source": [
    "policeDeptDistrictData_newCol_df = policeDeptDistrictData_df.selectExpr(\"COMPANY as COMPANY\",\"the_geom as the_geom\",\"DISTRICT as PdDistrict\",\"OBJECTID as OBJECTID\")\n",
    "policeDeptDistrictData_newCol_df.printSchema()"
   ]
  },
  {
   "cell_type": "markdown",
   "metadata": {},
   "source": [
    "Group the Crime Data based on **District** and store the count of crimes in each district. Then sort the dataframe in descending order of crimes."
   ]
  },
  {
   "cell_type": "code",
   "execution_count": null,
   "metadata": {
    "collapsed": false
   },
   "outputs": [],
   "source": [
    "crimeDataByDistrict = crimeData_df.filter(crimeData_df['PdDistrict'] != \"null\").groupBy(\"PdDistrict\").count()\n",
    "crimeDataByDistrictOrder = crimeDataByDistrict.sort(\"count\",ascending=False)\n",
    "for line in crimeDataByDistrictOrder.collect():\n",
    "    print line"
   ]
  },
  {
   "cell_type": "markdown",
   "metadata": {
    "collapsed": false
   },
   "source": [
    "Now, join both the dataframes based on the **PdDistrict** column."
   ]
  },
  {
   "cell_type": "code",
   "execution_count": null,
   "metadata": {
    "collapsed": false
   },
   "outputs": [],
   "source": [
    "districtCrimeDataWithLongLat = crimeDataByDistrictOrder.join(policeDeptDistrictData_newCol_df,\"PdDistrict\")"
   ]
  },
  {
   "cell_type": "markdown",
   "metadata": {},
   "source": [
    "Check the schema of the resultant dataframe"
   ]
  },
  {
   "cell_type": "code",
   "execution_count": null,
   "metadata": {
    "collapsed": false
   },
   "outputs": [],
   "source": [
    "districtCrimeDataWithLongLat.printSchema()"
   ]
  },
  {
   "cell_type": "markdown",
   "metadata": {},
   "source": [
    "##Storing the Results in Object Storage\n",
    "\n",
    "The results are stored as text file in the Object Storage data store. While storing the file, partition value has to be set to 1, so that all the results are stored in a single file. "
   ]
  },
  {
   "cell_type": "code",
   "execution_count": null,
   "metadata": {
    "collapsed": false
   },
   "outputs": [],
   "source": [
    "districtCrimeDataWithLongLatJSON = districtCrimeDataWithLongLat.toJSON()"
   ]
  },
  {
   "cell_type": "code",
   "execution_count": null,
   "metadata": {
    "collapsed": false
   },
   "outputs": [],
   "source": [
    "districtCrimeDataWithLongLatJSON.repartition(1).saveAsTextFile(\"swift://notebooks.\" + credentials['name'] + \"/SFDistrictCrimesCount.json\")"
   ]
  },
  {
   "cell_type": "markdown",
   "metadata": {
    "collapsed": false
   },
   "source": [
    "##More Analysis\n",
    "\n",
    "Extract the year and month value from the **Date** column and store them as new columns."
   ]
  },
  {
   "cell_type": "code",
   "execution_count": null,
   "metadata": {
    "collapsed": false
   },
   "outputs": [],
   "source": [
    "crimeData_df = crimeData_df.withColumn('Year',crimeData_df['Date'].substr(0,4))\n",
    "crimeData_df = crimeData_df.withColumn('Month',crimeData_df['Date'].substr(6,2))\n",
    "crimeData_df.printSchema()"
   ]
  },
  {
   "cell_type": "markdown",
   "metadata": {},
   "source": [
    "You can view the contents of the new column by running the below code."
   ]
  },
  {
   "cell_type": "code",
   "execution_count": null,
   "metadata": {
    "collapsed": false
   },
   "outputs": [],
   "source": [
    "crimeData_df.select('Year').show()"
   ]
  },
  {
   "cell_type": "code",
   "execution_count": null,
   "metadata": {
    "collapsed": false
   },
   "outputs": [],
   "source": [
    "crimeData_df.select('Month').show()"
   ]
  },
  {
   "cell_type": "markdown",
   "metadata": {},
   "source": [
    "We can find out how the crime rate is during the Christmas season in each year using the below code. "
   ]
  },
  {
   "cell_type": "code",
   "execution_count": null,
   "metadata": {
    "collapsed": true
   },
   "outputs": [],
   "source": [
    "crimeDataCountByHolidaySeasonInEachYear = crimeData_df.filter(crimeData_df['Month']==12).groupBy('Year').count()"
   ]
  },
  {
   "cell_type": "code",
   "execution_count": null,
   "metadata": {
    "collapsed": false
   },
   "outputs": [],
   "source": [
    "for line in crimeDataCountByHolidaySeasonInEachYear.collect():\n",
    "    print line"
   ]
  },
  {
   "cell_type": "markdown",
   "metadata": {},
   "source": [
    "We can also find out how the crime rate is in each month of a year."
   ]
  },
  {
   "cell_type": "code",
   "execution_count": null,
   "metadata": {
    "collapsed": false
   },
   "outputs": [],
   "source": [
    "crimeDataCountByMonthFor2015 = crimeData_df.filter(crimeData_df['Year'] == 2015).groupBy('Month').count()\n",
    "for line in crimeDataCountByMonthFor2015.collect():\n",
    "    print line"
   ]
  },
  {
   "cell_type": "markdown",
   "metadata": {},
   "source": [
    "Crime rate in each year"
   ]
  },
  {
   "cell_type": "code",
   "execution_count": null,
   "metadata": {
    "collapsed": false
   },
   "outputs": [],
   "source": [
    "crimeDataCountByYear = crimeData_df.groupBy('Year').count()\n",
    "for line in crimeDataCountByYear.collect():\n",
    "    print line"
   ]
  },
  {
   "cell_type": "markdown",
   "metadata": {},
   "source": [
    "No of crimes based on the type of crime."
   ]
  },
  {
   "cell_type": "code",
   "execution_count": null,
   "metadata": {
    "collapsed": false
   },
   "outputs": [],
   "source": [
    "crimeDataCountByCategory = crimeData_df.filter(crimeData_df['Category'] != \"null\").groupBy(\"Category\").count()\n",
    "crimeDataCountByCategory = crimeDataCountByCategory.sort(\"count\",ascending=False)\n",
    "for line in crimeDataCountByCategory.collect():\n",
    "    print line"
   ]
  }
 ],
 "metadata": {
  "kernelspec": {
   "display_name": "Python 2",
   "language": "python",
   "name": "python2"
  },
  "language_info": {
   "codemirror_mode": {
    "name": "ipython",
    "version": 2
   },
   "file_extension": ".py",
   "mimetype": "text/x-python",
   "name": "python",
   "nbconvert_exporter": "python",
   "pygments_lexer": "ipython2",
   "version": "2.7.9"
  }
 },
 "nbformat": 4,
 "nbformat_minor": 0
}