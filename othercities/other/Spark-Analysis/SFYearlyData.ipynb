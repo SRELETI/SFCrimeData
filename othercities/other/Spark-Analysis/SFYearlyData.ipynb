{
 "cells": [
  {
   "cell_type": "code",
   "execution_count": 20,
   "metadata": {
    "collapsed": true
   },
   "outputs": [],
   "source": [
    "def set_hadoop_config(credentials):\n",
    "    prefix = \"fs.swift.service.\" + credentials['name'] \n",
    "    hconf = sc._jsc.hadoopConfiguration()\n",
    "    hconf.set(prefix + \".auth.url\", credentials['auth_url']+'/v3/auth/tokens')\n",
    "    hconf.set(prefix + \".auth.endpoint.prefix\", \"endpoints\")\n",
    "    hconf.set(prefix + \".tenant\", credentials['project_id'])\n",
    "    hconf.set(prefix + \".username\", credentials['user_id'])\n",
    "    hconf.set(prefix + \".password\", credentials['password'])\n",
    "    hconf.setInt(prefix + \".http.port\", 8080)\n",
    "    hconf.set(prefix + \".region\", credentials['region'])\n",
    "    hconf.setBoolean(prefix + \".public\", True)"
   ]
  },
  {
   "cell_type": "code",
   "execution_count": 21,
   "metadata": {
    "collapsed": false
   },
   "outputs": [
    {
     "ename": "SyntaxError",
     "evalue": "invalid syntax (<ipython-input-21-2ace772ed7cd>, line 1)",
     "output_type": "error",
     "traceback": [
      "\u001b[1;36m  File \u001b[1;32m\"<ipython-input-21-2ace772ed7cd>\"\u001b[1;36m, line \u001b[1;32m1\u001b[0m\n\u001b[1;33m    auth_uri :\u001b[0m\n\u001b[1;37m             ^\u001b[0m\n\u001b[1;31mSyntaxError\u001b[0m\u001b[1;31m:\u001b[0m invalid syntax\n"
     ]
    }
   ],
   "source": [
    "auth_uri : \n",
    "global_account_auth_uri : \n",
    "username : \n",
    "password : \n",
    "auth_url : \n",
    "project : \n",
    "project_id : \n",
    "region : \n",
    "user_id : \n",
    "domain_id : \n",
    "domain_name : \n",
    "filename : \n",
    "container : \n",
    "tenantId : \n"
   ]
  },
  {
   "cell_type": "code",
   "execution_count": 22,
   "metadata": {
    "collapsed": true
   },
   "outputs": [],
   "source": [
    "year = '2007'"
   ]
  },
  {
   "cell_type": "code",
   "execution_count": 23,
   "metadata": {
    "collapsed": false
   },
   "outputs": [],
   "source": [
    "credentials = {\n",
    "    'auth_url': '',\n",
    "    'project_id': '',\n",
    "    'region': '',\n",
    "    'user_id': '',\n",
    "    'username': '',\n",
    "    'password': '',\n",
    "    'filename': ',\n",
    "    'container': ''\n",
    "}\n",
    "credentials_2 = {\n",
    "    'auth_url': '',\n",
    "    'project_id': '',\n",
    "    'region': '',\n",
    "    'user_id': '',\n",
    "    'username': '',\n",
    "    'password': '',\n",
    "    'filename': '',\n",
    "    'container': ''\n",
    "}"
   ]
  },
  {
   "cell_type": "code",
   "execution_count": 24,
   "metadata": {
    "collapsed": false
   },
   "outputs": [],
   "source": [
    "credentials['name'] = 'crimes'\n",
    "set_hadoop_config(credentials)\n",
    "\n",
    "credentials_2['name'] = 'districts'\n",
    "set_hadoop_config(credentials_2)"
   ]
  },
  {
   "cell_type": "code",
   "execution_count": 25,
   "metadata": {
    "collapsed": true
   },
   "outputs": [],
   "source": [
    "from pyspark.sql import SQLContext\n",
    "sqlContext = SQLContext(sc)\n",
    "\n",
    "sc.addPyFile(\"https://raw.githubusercontent.com/seahboonsiew/pyspark-csv/master/pyspark_csv.py\")\n",
    "import pyspark_csv as pycsv\n",
    "\n",
    "\n",
    "%matplotlib inline\n",
    "\n",
    "import matplotlib.pyplot as plt\n",
    "# matplotlib.patches allows us create colored patches, we can use for legends in plots\n",
    "import matplotlib.patches as mpatches\n",
    "# seaborn also builds on matplotlib and adds graphical features and new plot types"
   ]
  },
  {
   "cell_type": "code",
   "execution_count": 26,
   "metadata": {
    "collapsed": false
   },
   "outputs": [],
   "source": [
    "crimeData = sc.textFile(\"swift://notebooks.\" + credentials['name'] + \"/\" + credentials['filename'])\n",
    "policeDeptDistrictData = sc.textFile(\"swift://notebooks.\" + credentials_2['name'] +\"/\" + credentials_2['filename'])"
   ]
  },
  {
   "cell_type": "code",
   "execution_count": 27,
   "metadata": {
    "collapsed": false
   },
   "outputs": [
    {
     "data": {
      "text/plain": [
       "'2007data.csv'"
      ]
     },
     "execution_count": 27,
     "metadata": {},
     "output_type": "execute_result"
    }
   ],
   "source": [
    "credentials['filename']"
   ]
  },
  {
   "cell_type": "code",
   "execution_count": 28,
   "metadata": {
    "collapsed": true
   },
   "outputs": [],
   "source": [
    "crimeData_df = pycsv.csvToDataFrame(sqlContext, crimeData)\n"
   ]
  },
  {
   "cell_type": "code",
   "execution_count": 29,
   "metadata": {
    "collapsed": true
   },
   "outputs": [],
   "source": [
    "policeDeptDistrictData_df = pycsv.csvToDataFrame(sqlContext,policeDeptDistrictData)"
   ]
  },
  {
   "cell_type": "code",
   "execution_count": 30,
   "metadata": {
    "collapsed": false
   },
   "outputs": [
    {
     "name": "stdout",
     "output_type": "stream",
     "text": [
      "root\n",
      " |-- IncidntNum: integer (nullable = true)\n",
      " |-- Category: string (nullable = true)\n",
      " |-- Descript: string (nullable = true)\n",
      " |-- DayOfWeek: timestamp (nullable = true)\n",
      " |-- Date: timestamp (nullable = true)\n",
      " |-- Time: timestamp (nullable = true)\n",
      " |-- PdDistrict: string (nullable = true)\n",
      " |-- Resolution: string (nullable = true)\n",
      " |-- Address: string (nullable = true)\n",
      " |-- X: double (nullable = true)\n",
      " |-- Y: double (nullable = true)\n",
      " |-- Location: string (nullable = true)\n",
      " |-- PdId: integer (nullable = true)\n",
      "\n"
     ]
    }
   ],
   "source": [
    "crimeData_df.printSchema()"
   ]
  },
  {
   "cell_type": "code",
   "execution_count": 31,
   "metadata": {
    "collapsed": false
   },
   "outputs": [
    {
     "name": "stdout",
     "output_type": "stream",
     "text": [
      "root\n",
      " |-- COMPANY: string (nullable = true)\n",
      " |-- the_geom: string (nullable = true)\n",
      " |-- DISTRICT: string (nullable = true)\n",
      " |-- OBJECTID: integer (nullable = true)\n",
      "\n"
     ]
    }
   ],
   "source": [
    "policeDeptDistrictData_df.printSchema()\n"
   ]
  },
  {
   "cell_type": "code",
   "execution_count": 32,
   "metadata": {
    "collapsed": false
   },
   "outputs": [
    {
     "name": "stdout",
     "output_type": "stream",
     "text": [
      "root\n",
      " |-- COMPANY: string (nullable = true)\n",
      " |-- the_geom: string (nullable = true)\n",
      " |-- PdDistrict: string (nullable = true)\n",
      " |-- OBJECTID: integer (nullable = true)\n",
      "\n"
     ]
    }
   ],
   "source": [
    "policeDeptDistrictData_newCol_df = policeDeptDistrictData_df.selectExpr(\"COMPANY as COMPANY\",\"the_geom as the_geom\",\"DISTRICT as PdDistrict\",\"OBJECTID as OBJECTID\")\n",
    "policeDeptDistrictData_newCol_df.printSchema()"
   ]
  },
  {
   "cell_type": "code",
   "execution_count": 33,
   "metadata": {
    "collapsed": false
   },
   "outputs": [
    {
     "name": "stdout",
     "output_type": "stream",
     "text": [
      "Row(PdDistrict=u'SOUTHERN', count=24175)\n",
      "Row(PdDistrict=u'MISSION', count=18434)\n",
      "Row(PdDistrict=u'NORTHERN', count=16430)\n",
      "Row(PdDistrict=u'TENDERLOIN', count=14735)\n",
      "Row(PdDistrict=u'BAYVIEW', count=13925)\n",
      "Row(PdDistrict=u'CENTRAL', count=13335)\n",
      "Row(PdDistrict=u'INGLESIDE', count=12797)\n",
      "Row(PdDistrict=u'TARAVAL', count=9988)\n",
      "Row(PdDistrict=u'PARK', count=7234)\n",
      "Row(PdDistrict=u'RICHMOND', count=6586)\n"
     ]
    }
   ],
   "source": [
    "crimeDataByDistrict = crimeData_df.filter(crimeData_df['PdDistrict'] != \"null\").groupBy(\"PdDistrict\").count()\n",
    "crimeDataByDistrictOrder = crimeDataByDistrict.sort(\"count\",ascending=False)\n",
    "for line in crimeDataByDistrictOrder.collect():\n",
    "    print line"
   ]
  },
  {
   "cell_type": "code",
   "execution_count": 34,
   "metadata": {
    "collapsed": true
   },
   "outputs": [],
   "source": [
    "districtCrimeDataWithLongLat = crimeDataByDistrictOrder.join(policeDeptDistrictData_newCol_df,\"PdDistrict\")"
   ]
  },
  {
   "cell_type": "code",
   "execution_count": 35,
   "metadata": {
    "collapsed": false
   },
   "outputs": [
    {
     "name": "stdout",
     "output_type": "stream",
     "text": [
      "root\n",
      " |-- PdDistrict: string (nullable = true)\n",
      " |-- count: long (nullable = false)\n",
      " |-- COMPANY: string (nullable = true)\n",
      " |-- the_geom: string (nullable = true)\n",
      " |-- OBJECTID: integer (nullable = true)\n",
      "\n"
     ]
    }
   ],
   "source": [
    "districtCrimeDataWithLongLat.printSchema()"
   ]
  },
  {
   "cell_type": "code",
   "execution_count": 36,
   "metadata": {
    "collapsed": true
   },
   "outputs": [],
   "source": [
    "districtCrimeDataWithLongLatJSON = districtCrimeDataWithLongLat.toJSON()"
   ]
  },
  {
   "cell_type": "code",
   "execution_count": 37,
   "metadata": {
    "collapsed": true
   },
   "outputs": [],
   "source": [
    "districtCrimeDataWithLongLatJSON.repartition(1).saveAsTextFile(\"swift://notebooks.\" + credentials['name'] + \"/SFDistrictCrimesCount\" + year + \".json\")"
   ]
  },
  {
   "cell_type": "code",
   "execution_count": null,
   "metadata": {
    "collapsed": true
   },
   "outputs": [],
   "source": []
  }
 ],
 "metadata": {
  "kernelspec": {
   "display_name": "Python 2",
   "language": "python",
   "name": "python2"
  },
  "language_info": {
   "codemirror_mode": {
    "name": "ipython",
    "version": 2
   },
   "file_extension": ".py",
   "mimetype": "text/x-python",
   "name": "python",
   "nbconvert_exporter": "python",
   "pygments_lexer": "ipython2",
   "version": "2.7.9"
  }
 },
 "nbformat": 4,
 "nbformat_minor": 0
}